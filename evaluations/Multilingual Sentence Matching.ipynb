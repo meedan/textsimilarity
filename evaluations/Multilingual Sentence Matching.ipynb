{
 "cells": [
  {
   "cell_type": "markdown",
   "metadata": {},
   "source": [
    "# Loading Multilingual Sentence Matching Dataset"
   ]
  },
  {
   "cell_type": "code",
   "execution_count": 1,
   "metadata": {},
   "outputs": [
    {
     "name": "stdout",
     "output_type": "stream",
     "text": [
      "Dataset loaded successfully.\n"
     ]
    }
   ],
   "source": [
    "# !pip install fuzzywuzzy[speedup]\n",
    "# !pip install transformers\n",
    "# !pip install -U sentence-transformers\n",
    "import json\n",
    "import math\n",
    "from sklearn.metrics import confusion_matrix\n",
    "from fuzzywuzzy import fuzz\n",
    "from fuzzywuzzy import process\n",
    "from sklearn.metrics import accuracy_score\n",
    "import torch\n",
    "from transformers import XLMRobertaModel\n",
    "from transformers import XLMRobertaTokenizer\n",
    "import matplotlib.pyplot as plt\n",
    "import scipy\n",
    "\n",
    "\n",
    "with open('../data/multilingual_sentence_matched_datasets.json') as f:\n",
    "    sentence_pairs = json.load(f)\n",
    "    \n",
    "hindi_sentence_pairs = sentence_pairs['hindi_headlines']\n",
    "spanish_sentence_pairs = sentence_pairs['ciper']\n",
    "english_sentence_pairs = sentence_pairs['fact_pairs']\n",
    "\n",
    "hindi_labels = [pair['label'] for pair in hindi_sentence_pairs]\n",
    "spanish_labels = [pair['label'] for pair in spanish_sentence_pairs]\n",
    "english_labels = [pair['label'] for pair in english_sentence_pairs]\n",
    "\n",
    "print('Dataset loaded successfully.')"
   ]
  },
  {
   "cell_type": "markdown",
   "metadata": {},
   "source": [
    "# Defining Utility Functions"
   ]
  },
  {
   "cell_type": "code",
   "execution_count": 15,
   "metadata": {},
   "outputs": [],
   "source": [
    "def plot_accuracies(accuracies):\n",
    "    x_values = range(1, 101)\n",
    "    for accuracy_set in accuracies:\n",
    "        plt.plot(x_values, accuracy_set['accuracies'], '-', label=accuracy_set['label'])\n",
    "    plt.title('Accuracy Curves')\n",
    "    plt.ylabel('Accuracy')\n",
    "    plt.xlabel('Threshold')\n",
    "    plt.legend()\n",
    "    plt.show()\n",
    "    \n",
    "\n",
    "def is_a_match(a, b, threshold):\n",
    "    similarity = fuzz.partial_ratio(a, b)\n",
    "    return similarity > threshold\n",
    "\n",
    "\n",
    "def get_xlm_roberta_embeddings(text):\n",
    "    input_ids = torch.tensor(tokenizer.encode(text, add_special_tokens=True)).unsqueeze(0).to(device)\n",
    "    outputs = model(input_ids)\n",
    "    return torch.mean(outputs[0][0], dim=0)\n",
    "\n",
    "\n",
    "# cosine = torch.nn.CosineSimilarity(dim=0)\n",
    "from scipy.spatial.distance import cosine\n",
    "\n",
    "\n",
    "def angdist(u,v):\n",
    "    d=max(-1, min(1, cosine(u, v))) #Ensure d is strictly between -1 and 1\n",
    "    return 1 - math.acos(1-d) / math.pi"
   ]
  },
  {
   "cell_type": "markdown",
   "metadata": {},
   "source": [
    "# Similarity Matching Using Fuzzy String Matching"
   ]
  },
  {
   "cell_type": "code",
   "execution_count": null,
   "metadata": {},
   "outputs": [],
   "source": [
    "hindi_predictions = [1 if is_a_match(pair['lookup_text'], pair['database_text'], 38) else 0 for pair in hindi_sentence_pairs]\n",
    "spanish_predictions = [1 if is_a_match(pair['lookup_text'], pair['database_text'], 48) else 0 for pair in spanish_sentence_pairs]\n",
    "english_predictions = [1 if is_a_match(pair['lookup_text'], pair['database_text'], 50) else 0 for pair in english_sentence_pairs]\n",
    "\n",
    "print('Hindi accuracy: {}'.format(accuracy_score(hindi_predictions, hindi_labels)))\n",
    "print('Spanish accuracy: {}'.format(accuracy_score(spanish_predictions, spanish_labels)))\n",
    "print('English accuracy: {}'.format(accuracy_score(english_predictions, english_labels)))"
   ]
  },
  {
   "cell_type": "markdown",
   "metadata": {},
   "source": [
    "# Generating Stats on Fuzzy String Matching Performance"
   ]
  },
  {
   "cell_type": "code",
   "execution_count": null,
   "metadata": {},
   "outputs": [],
   "source": [
    "hindi_results = []\n",
    "spanish_results = []\n",
    "english_results = []\n",
    "for threshold in range(1, 101):\n",
    "    hindi_predictions = [1 if is_a_match(pair['lookup_text'], pair['database_text'], threshold) else 0 for pair in hindi_sentence_pairs]\n",
    "    spanish_predictions = [1 if is_a_match(pair['lookup_text'], pair['database_text'], threshold) else 0 for pair in spanish_sentence_pairs]\n",
    "    english_predictions = [1 if is_a_match(pair['lookup_text'], pair['database_text'], threshold) else 0 for pair in english_sentence_pairs]\n",
    "    \n",
    "    tn, fp, fn, tp = confusion_matrix(hindi_labels, hindi_predictions).ravel()\n",
    "    hindi_results.append([tn, fp, fn, tp])\n",
    "    tn, fp, fn, tp = confusion_matrix(spanish_labels, spanish_predictions).ravel()\n",
    "    spanish_results.append([tn, fp, fn, tp])\n",
    "    tn, fp, fn, tp = confusion_matrix(english_labels, english_predictions).ravel()\n",
    "    english_results.append([tn, fp, fn, tp])\n",
    "    \n",
    "print('Stats generated successfully.')"
   ]
  },
  {
   "cell_type": "code",
   "execution_count": null,
   "metadata": {},
   "outputs": [],
   "source": [
    "hindi_accuracies = [(res[0] + res[3])/(res[0] + res[1] + res[2] + res[3]) for res in hindi_results]\n",
    "spanish_accuracies = [(res[0] + res[3])/(res[0] + res[1] + res[2] + res[3]) for res in spanish_results]\n",
    "english_accuracies = [(res[0] + res[3])/(res[0] + res[1] + res[2] + res[3]) for res in english_results]\n",
    "\n",
    "plot_accuracies([{'accuracies': hindi_accuracies, 'label': 'Hindi'}, {'accuracies': spanish_accuracies, 'label':'Spanish'}, {'accuracies': english_accuracies, 'label': 'English'}])"
   ]
  },
  {
   "cell_type": "markdown",
   "metadata": {},
   "source": [
    "# Claim Matching Using XLM-R Embeddings"
   ]
  },
  {
   "cell_type": "code",
   "execution_count": null,
   "metadata": {},
   "outputs": [],
   "source": [
    "device = torch.device(\"cuda\" if torch.cuda.is_available() else \"cpu\")\n",
    "n_gpu = torch.cuda.device_count()\n",
    "print(\"GPU name: {}, count: {}\".format(torch.cuda.get_device_name(0), n_gpu))\n",
    "\n",
    "model = XLMRobertaModel.from_pretrained(\"xlm-roberta-base\")\n",
    "tokenizer = XLMRobertaTokenizer.from_pretrained('xlm-roberta-base', do_lower_case=False)\n",
    "\n",
    "if n_gpu > 1:\n",
    "    print(\"Let's use\", torch.cuda.device_count(), \"GPUs!\")\n",
    "    # dim = 0 [30, xxx] -> [10, ...], [10, ...], [10, ...] on 3 GPUs\n",
    "    model = torch.nn.DataParallel(model)\n",
    "model.cuda()\n",
    "model.eval()"
   ]
  },
  {
   "cell_type": "code",
   "execution_count": null,
   "metadata": {},
   "outputs": [],
   "source": [
    "# for i, pair in enumerate(hindi_sentence_pairs + spanish_sentence_pairs + english_sentence_pairs):\n",
    "#     pair['lookup_text_embedding'] = get_xlm_roberta_embeddings(pair['lookup_text'])\n",
    "#     pair['database_text_embedding'] = get_xlm_roberta_embeddings(pair['database_text'])\n",
    "# print('Embeddings extracted successfully.')\n",
    "\n",
    "hindi_results = []\n",
    "spanish_results = []\n",
    "english_results = []\n",
    "for pair in hindi_sentence_pairs + spanish_sentence_pairs + english_sentence_pairs:\n",
    "    pair['ang_distance'] = angdist(get_xlm_roberta_embeddings(pair['lookup_text']).detach().cpu().numpy(), get_xlm_roberta_embeddings(pair['database_text']).detach().cpu().numpy())\n",
    "\n",
    "for threshold in range(1, 101):\n",
    "    hindi_predictions = [1 if pair['ang_distance'] > threshold/100 else 0 for pair in hindi_sentence_pairs]\n",
    "    spanish_predictions = [1 if pair['ang_distance'] > threshold/100 else 0 for pair in spanish_sentence_pairs]\n",
    "    english_predictions = [1 if pair['ang_distance'] > threshold/100 else 0 for pair in english_sentence_pairs]\n",
    "\n",
    "    tn, fp, fn, tp = confusion_matrix(hindi_labels, hindi_predictions).ravel()\n",
    "    hindi_results.append([tn, fp, fn, tp])\n",
    "    tn, fp, fn, tp = confusion_matrix(spanish_labels, spanish_predictions).ravel()\n",
    "    spanish_results.append([tn, fp, fn, tp])\n",
    "    tn, fp, fn, tp = confusion_matrix(english_labels, english_predictions).ravel()\n",
    "    english_results.append([tn, fp, fn, tp])\n",
    "    \n",
    "print('Stats generated successfully.')"
   ]
  },
  {
   "cell_type": "code",
   "execution_count": null,
   "metadata": {},
   "outputs": [],
   "source": [
    "hindi_accuracies = [(res[0] + res[3])/(res[0] + res[1] + res[2] + res[3]) for res in hindi_results]\n",
    "spanish_accuracies = [(res[0] + res[3])/(res[0] + res[1] + res[2] + res[3]) for res in spanish_results]\n",
    "english_accuracies = [(res[0] + res[3])/(res[0] + res[1] + res[2] + res[3]) for res in english_results]\n",
    "\n",
    "plot_accuracies([{'accuracies': hindi_accuracies, 'label': 'Hindi'}, {'accuracies': spanish_accuracies, 'label':'Spanish'}, {'accuracies': english_accuracies, 'label': 'English'}])"
   ]
  },
  {
   "cell_type": "markdown",
   "metadata": {},
   "source": [
    "# English Claims Matching Using Vanilla SBERT"
   ]
  },
  {
   "cell_type": "code",
   "execution_count": 17,
   "metadata": {},
   "outputs": [
    {
     "name": "stdout",
     "output_type": "stream",
     "text": [
      "Stats generated successfully.\n"
     ]
    }
   ],
   "source": [
    "from sentence_transformers import SentenceTransformer\n",
    "\n",
    "\n",
    "sbert_model = SentenceTransformer('bert-base-nli-mean-tokens')\n",
    "\n",
    "english_results_angdist = []\n",
    "english_results_cosine = []\n",
    "\n",
    "for pair in english_sentence_pairs:\n",
    "    embeddings = sbert_model.encode([pair['lookup_text'], pair['database_text']])\n",
    "    pair['ang_distance'] = angdist(embeddings[0], embeddings[1])\n",
    "    pair['cosine_distance'] = cosine(embeddings[0], embeddings[1])\n",
    "\n",
    "for threshold in range(1, 101):\n",
    "    english_predictions_angdist = [1 if pair['ang_distance'] > threshold/100 else 0 for pair in english_sentence_pairs]\n",
    "    english_predictions_cosine = [1 if pair['cosine_distance'] < threshold/100 else 0 for pair in english_sentence_pairs]\n",
    "\n",
    "    tn, fp, fn, tp = confusion_matrix(english_labels, english_predictions_angdist).ravel()\n",
    "    english_results_angdist.append([tn, fp, fn, tp])\n",
    "    \n",
    "    tn, fp, fn, tp = confusion_matrix(english_labels, english_predictions_cosine).ravel()\n",
    "    english_results_cosine.append([tn, fp, fn, tp])\n",
    "    \n",
    "print('Stats generated successfully.')"
   ]
  },
  {
   "cell_type": "code",
   "execution_count": 18,
   "metadata": {},
   "outputs": [
    {
     "data": {
      "image/png": "[encoded data removed]",
      "text/plain": [
       "<Figure size 432x288 with 1 Axes>"
      ]
     },
     "metadata": {},
     "output_type": "display_data"
    }
   ],
   "source": [
    "english_accuracies_angdist = [(res[0] + res[3])/(res[0] + res[1] + res[2] + res[3]) for res in english_results_angdist]\n",
    "english_accuracies_cosine = [(res[0] + res[3])/(res[0] + res[1] + res[2] + res[3]) for res in english_results_cosine]\n",
    "\n",
    "plot_accuracies([{'accuracies': english_accuracies_angdist, 'label': 'angdist'}, {'accuracies': english_accuracies_cosine, 'label':'cosine'}])"
   ]
  },
  {
   "cell_type": "code",
   "execution_count": 21,
   "metadata": {},
   "outputs": [
    {
     "name": "stdout",
     "output_type": "stream",
     "text": [
      "400 0 390 10\n",
      "400 0 370 30\n",
      "400 0 328 72\n",
      "400 0 291 109\n",
      "400 0 255 145\n",
      "400 0 227 173\n",
      "400 0 192 208\n",
      "400 0 178 222\n",
      "400 0 156 244\n",
      "400 0 142 258\n",
      "400 0 127 273\n",
      "400 0 115 285\n",
      "400 0 98 302\n",
      "400 0 85 315\n",
      "400 0 76 324\n",
      "400 0 66 334\n",
      "400 0 61 339\n",
      "400 0 52 348\n",
      "400 0 45 355\n",
      "400 0 40 360\n",
      "400 0 33 367\n",
      "400 0 27 373\n",
      "400 0 23 377\n",
      "400 0 21 379\n",
      "400 0 18 382\n",
      "400 0 14 386\n",
      "400 0 10 390\n",
      "400 0 8 392\n",
      "399 1 7 393\n",
      "398 2 6 394\n",
      "397 3 2 398\n",
      "397 3 1 399\n",
      "396 4 1 399\n",
      "393 7 1 399\n",
      "392 8 1 399\n",
      "391 9 1 399\n",
      "387 13 1 399\n",
      "386 14 1 399\n",
      "386 14 1 399\n",
      "385 15 1 399\n",
      "385 15 1 399\n",
      "384 16 1 399\n",
      "384 16 1 399\n",
      "383 17 1 399\n",
      "382 18 1 399\n",
      "379 21 0 400\n",
      "373 27 0 400\n",
      "369 31 0 400\n",
      "365 35 0 400\n",
      "363 37 0 400\n",
      "351 49 0 400\n",
      "348 52 0 400\n",
      "339 61 0 400\n",
      "334 66 0 400\n",
      "327 73 0 400\n",
      "318 82 0 400\n",
      "308 92 0 400\n",
      "297 103 0 400\n",
      "289 111 0 400\n",
      "281 119 0 400\n",
      "271 129 0 400\n",
      "260 140 0 400\n",
      "245 155 0 400\n",
      "229 171 0 400\n",
      "222 178 0 400\n",
      "207 193 0 400\n",
      "188 212 0 400\n",
      "176 224 0 400\n",
      "151 249 0 400\n",
      "138 262 0 400\n",
      "117 283 0 400\n",
      "103 297 0 400\n",
      "102 298 0 400\n",
      "89 311 0 400\n",
      "78 322 0 400\n",
      "67 333 0 400\n",
      "58 342 0 400\n",
      "50 350 0 400\n",
      "42 358 0 400\n",
      "35 365 0 400\n",
      "34 366 0 400\n",
      "26 374 0 400\n",
      "24 376 0 400\n",
      "22 378 0 400\n",
      "16 384 0 400\n",
      "12 388 0 400\n",
      "10 390 0 400\n",
      "7 393 0 400\n",
      "7 393 0 400\n",
      "6 394 0 400\n",
      "4 396 0 400\n",
      "2 398 0 400\n",
      "1 399 0 400\n",
      "1 399 0 400\n",
      "0 400 0 400\n",
      "0 400 0 400\n",
      "0 400 0 400\n",
      "0 400 0 400\n",
      "0 400 0 400\n",
      "0 400 0 400\n"
     ]
    }
   ],
   "source": [
    "for result in english_results_cosine:\n",
    "    print(result[0], result[1], result[2], result[3])"
   ]
  },
  {
   "cell_type": "code",
   "execution_count": null,
   "metadata": {},
   "outputs": [],
   "source": []
  }
 ],
 "metadata": {
  "kernelspec": {
   "display_name": "conda_pytorch_p36",
   "language": "python",
   "name": "conda_pytorch_p36"
  },
  "language_info": {
   "codemirror_mode": {
    "name": "ipython",
    "version": 3
   },
   "file_extension": ".py",
   "mimetype": "text/x-python",
   "name": "python",
   "nbconvert_exporter": "python",
   "pygments_lexer": "ipython3",
   "version": "3.6.5"
  }
 },
 "nbformat": 4,
 "nbformat_minor": 4
}
