{
 "cells": [
  {
   "cell_type": "code",
   "execution_count": 3,
   "metadata": {},
   "outputs": [
    {
     "name": "stdout",
     "output_type": "stream",
     "text": [
      "Collecting package metadata (repodata.json): done\n",
      "Solving environment: failed with initial frozen solve. Retrying with flexible solve.\n",
      "\n",
      "PackagesNotFoundError: The following packages are not available from current channels:\n",
      "\n",
      "  - fuzzywuzzy\n",
      "\n",
      "Current channels:\n",
      "\n",
      "  - https://repo.anaconda.com/pkgs/main/linux-64\n",
      "  - https://repo.anaconda.com/pkgs/main/noarch\n",
      "  - https://repo.anaconda.com/pkgs/r/linux-64\n",
      "  - https://repo.anaconda.com/pkgs/r/noarch\n",
      "\n",
      "To search for alternate channels that may provide the conda package you're\n",
      "looking for, navigate to\n",
      "\n",
      "    https://anaconda.org\n",
      "\n",
      "and use the search bar at the top of the page.\n",
      "\n",
      "\n"
     ]
    }
   ],
   "source": [
    "import sys\n",
    "!conda install python-Levenshtein fuzzywuzzy"
   ]
  },
  {
   "cell_type": "markdown",
   "metadata": {},
   "source": [
    "# Loading Multilingual Sentence Matching Dataset"
   ]
  },
  {
   "cell_type": "code",
   "execution_count": 10,
   "metadata": {},
   "outputs": [
    {
     "name": "stdout",
     "output_type": "stream",
     "text": [
      "Dataset loaded successfully.\n"
     ]
    }
   ],
   "source": [
    "import json\n",
    "\n",
    "\n",
    "with open('../data/multilingual_sentence_matched_datasets.json') as f:\n",
    "    sentence_pairs = json.load(f)\n",
    "    \n",
    "hindi_sentence_pairs = sentence_pairs['hindi_headlines']\n",
    "spanish_sentence_pairs = sentence_pairs['ciper']\n",
    "english_sentence_pairs = sentence_pairs['fact_pairs']\n",
    "\n",
    "print('Dataset loaded successfully.')"
   ]
  },
  {
   "cell_type": "markdown",
   "metadata": {},
   "source": [
    "# Similarity Matching Using Fuzzy String Matching"
   ]
  },
  {
   "cell_type": "code",
   "execution_count": 38,
   "metadata": {},
   "outputs": [
    {
     "name": "stdout",
     "output_type": "stream",
     "text": [
      "Hindi accuracy: 0.79625\n",
      "Spanish accuracy: 0.80375\n",
      "English accuracy: 0.99\n"
     ]
    }
   ],
   "source": [
    "from fuzzywuzzy import fuzz\n",
    "from fuzzywuzzy import process\n",
    "from sklearn.metrics import accuracy_score\n",
    "\n",
    "\n",
    "def is_a_match(a, b, threshold):\n",
    "    similarity = fuzz.partial_ratio(a, b)\n",
    "    return similarity > threshold\n",
    "\n",
    "\n",
    "hindi_predictions = [1 if is_a_match(pair['lookup_text'], pair['database_text'], 38) else 0 for pair in hindi_sentence_pairs]\n",
    "spanish_predictions = [1 if is_a_match(pair['lookup_text'], pair['database_text'], 48) else 0 for pair in spanish_sentence_pairs]\n",
    "english_predictions = [1 if is_a_match(pair['lookup_text'], pair['database_text'], 50) else 0 for pair in english_sentence_pairs]\n",
    "\n",
    "hindi_labels = [pair['label'] for pair in hindi_sentence_pairs]\n",
    "spanish_labels = [pair['label'] for pair in spanish_sentence_pairs]\n",
    "english_labels = [pair['label'] for pair in english_sentence_pairs]\n",
    "\n",
    "print('Hindi accuracy: {}'.format(accuracy_score(hindi_predictions, hindi_labels)))\n",
    "print('Spanish accuracy: {}'.format(accuracy_score(spanish_predictions, spanish_labels)))\n",
    "print('English accuracy: {}'.format(accuracy_score(english_predictions, english_labels)))"
   ]
  },
  {
   "cell_type": "markdown",
   "metadata": {},
   "source": [
    "# Generating Stats on Fuzzy String Matching Performance"
   ]
  },
  {
   "cell_type": "code",
   "execution_count": null,
   "metadata": {},
   "outputs": [],
   "source": []
  }
 ],
 "metadata": {
  "kernelspec": {
   "display_name": "Python 3",
   "language": "python",
   "name": "python3"
  },
  "language_info": {
   "codemirror_mode": {
    "name": "ipython",
    "version": 3
   },
   "file_extension": ".py",
   "mimetype": "text/x-python",
   "name": "python",
   "nbconvert_exporter": "python",
   "pygments_lexer": "ipython3",
   "version": "3.7.1"
  }
 },
 "nbformat": 4,
 "nbformat_minor": 2
}
